{
  "nbformat": 4,
  "nbformat_minor": 0,
  "metadata": {
    "colab": {
      "provenance": []
    },
    "kernelspec": {
      "name": "python3",
      "display_name": "Python 3"
    },
    "language_info": {
      "name": "python"
    }
  },
  "cells": [
    {
      "cell_type": "markdown",
      "source": [
        "Herança\n"
      ],
      "metadata": {
        "id": "jmOecdsfla60"
      }
    },
    {
      "cell_type": "code",
      "execution_count": null,
      "metadata": {
        "id": "iA2bmcYCFU7k"
      },
      "outputs": [],
      "source": [
        "class Animal():\n",
        "  def __init__(self):\n",
        "    print(\"Animal criado\")\n",
        "  def imprimir(self):\n",
        "    print(\"este é um animal\")\n",
        "  def comer(self):\n",
        "    print(\"Hora de comer\")\n",
        "  def emitir_som(self):\n",
        "    pass"
      ]
    },
    {
      "cell_type": "code",
      "source": [
        "class Cachorro(Animal):\n",
        "  def __init__(self):\n",
        "    Animal.__init__(self)\n",
        "    print(\"objeto cachorro criado\")\n",
        "  def emitir_som(self):\n",
        "    print(\"Au au!\")"
      ],
      "metadata": {
        "id": "YW0B7M-4gKsm"
      },
      "execution_count": null,
      "outputs": []
    },
    {
      "cell_type": "code",
      "source": [
        "rex = Cachorro()"
      ],
      "metadata": {
        "colab": {
          "base_uri": "https://localhost:8080/"
        },
        "id": "UPCZ6GcLgMz0",
        "outputId": "5ec4e787-5acc-4ae2-8a52-11b867547373"
      },
      "execution_count": null,
      "outputs": [
        {
          "output_type": "stream",
          "name": "stdout",
          "text": [
            "Animal criado\n",
            "objeto cachorro criado\n"
          ]
        }
      ]
    },
    {
      "cell_type": "code",
      "source": [
        "rex.emitir_som()"
      ],
      "metadata": {
        "colab": {
          "base_uri": "https://localhost:8080/"
        },
        "id": "lfGa_0LlgknW",
        "outputId": "a712d3c4-19cd-4a8e-cec2-3cf1120fa7c7"
      },
      "execution_count": null,
      "outputs": [
        {
          "output_type": "stream",
          "name": "stdout",
          "text": [
            "Au au!\n"
          ]
        }
      ]
    },
    {
      "cell_type": "code",
      "source": [
        "rex.imprimir()"
      ],
      "metadata": {
        "id": "F7kNUNTRg88M",
        "outputId": "1d0e9e65-7038-4485-ba53-9f30df8d4e84",
        "colab": {
          "base_uri": "https://localhost:8080/"
        }
      },
      "execution_count": null,
      "outputs": [
        {
          "output_type": "stream",
          "name": "stdout",
          "text": [
            "este é um animal\n"
          ]
        }
      ]
    },
    {
      "cell_type": "code",
      "source": [
        "rex.comer()"
      ],
      "metadata": {
        "id": "A8AEHr4Ygped",
        "colab": {
          "base_uri": "https://localhost:8080/"
        },
        "outputId": "a3748cd6-0c93-45be-d6bd-4c70842ef8ed"
      },
      "execution_count": null,
      "outputs": [
        {
          "output_type": "stream",
          "name": "stdout",
          "text": [
            "Hora de comer\n"
          ]
        }
      ]
    },
    {
      "cell_type": "markdown",
      "source": [
        "Polimorfismo\n"
      ],
      "metadata": {
        "id": "xw8m53Pklt7j"
      }
    },
    {
      "cell_type": "code",
      "source": [
        "class Veiculo:\n",
        "  def __init__(self, marca, veiculo):\n",
        "    self.marca = marca\n",
        "    self.veiculo = veiculo\n",
        "\n",
        "  def acelerar(self):\n",
        "    pass\n",
        "\n",
        "  def frear(self):\n",
        "    pass"
      ],
      "metadata": {
        "id": "r1aMBKIVlvQA"
      },
      "execution_count": null,
      "outputs": []
    },
    {
      "cell_type": "code",
      "source": [
        "class Carro(Veiculo):\n",
        "  def acelerar(self):\n",
        "    print(\"o carro está acelerando\")\n",
        "\n",
        "  def frear(self):\n",
        "    print(\"o carro está freando\")"
      ],
      "metadata": {
        "id": "8zzIaMTxmbHJ"
      },
      "execution_count": null,
      "outputs": []
    },
    {
      "cell_type": "code",
      "source": [
        "class Moto(Veiculo):\n",
        "  def acelerar(self):\n",
        "    print(\"a moto está acelerando\")\n",
        "\n",
        "  def frear(self):\n",
        "    print(\"a moto está freando\")"
      ],
      "metadata": {
        "id": "ywTF2FxDm-EK"
      },
      "execution_count": null,
      "outputs": []
    },
    {
      "cell_type": "code",
      "source": [
        "class Aviao(Veiculo):\n",
        "  def acelerar(self):\n",
        "    print(\"o aviao está acelerando\")\n",
        "\n",
        "  def frear(self):\n",
        "    print(\"o aviao está freando\")\n",
        "\n",
        "  def decolar(self):\n",
        "    print(\"o avião está decolando\")"
      ],
      "metadata": {
        "id": "x8-e_Fz_nCRP"
      },
      "execution_count": null,
      "outputs": []
    },
    {
      "cell_type": "code",
      "source": [
        "lista_veiculos = [Carro(\"porsche\", \"911 turbo\"), Moto(\"Honda\", \"CB\"), Aviao(\"Boeing\", \"757\")]"
      ],
      "metadata": {
        "id": "9Xg2rHqknOUP"
      },
      "execution_count": null,
      "outputs": []
    },
    {
      "cell_type": "code",
      "source": [
        "for item in lista_veiculos:\n",
        "  item.acelerar()\n",
        "\n",
        "  item.frear()\n",
        "\n",
        "  if isinstance(item, Aviao):\n",
        "    item.decolar()\n",
        "\n",
        "  print(\"-----\")"
      ],
      "metadata": {
        "colab": {
          "base_uri": "https://localhost:8080/"
        },
        "id": "C19di7b0npih",
        "outputId": "9be8c2a2-6e2d-4213-fa7c-8dedb22ff20f"
      },
      "execution_count": null,
      "outputs": [
        {
          "output_type": "stream",
          "name": "stdout",
          "text": [
            "o carro está acelerando\n",
            "o carro está freando\n",
            "-----\n",
            "a moto está acelerando\n",
            "a moto está freando\n",
            "-----\n",
            "o aviao está acelerando\n",
            "o aviao está freando\n",
            "o avião está decolando\n",
            "-----\n"
          ]
        }
      ]
    }
  ]
}